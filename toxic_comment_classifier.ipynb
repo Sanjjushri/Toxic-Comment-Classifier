{
 "cells": [
  {
   "cell_type": "code",
   "execution_count": 1,
   "id": "46f24e39",
   "metadata": {
    "id": "46f24e39"
   },
   "outputs": [],
   "source": [
    "import pandas as pd\n",
    "import pickle"
   ]
  },
  {
   "cell_type": "code",
   "execution_count": 2,
   "id": "ce4b6382",
   "metadata": {
    "id": "ce4b6382"
   },
   "outputs": [],
   "source": [
    "df = pd.read_csv('toxic-comment-dataset.csv')"
   ]
  },
  {
   "cell_type": "code",
   "execution_count": 3,
   "id": "2907f896",
   "metadata": {
    "id": "2907f896",
    "outputId": "5479c077-bbd4-4e7a-b08c-880155ad642a"
   },
   "outputs": [
    {
     "data": {
      "text/html": [
       "<div>\n",
       "<style scoped>\n",
       "    .dataframe tbody tr th:only-of-type {\n",
       "        vertical-align: middle;\n",
       "    }\n",
       "\n",
       "    .dataframe tbody tr th {\n",
       "        vertical-align: top;\n",
       "    }\n",
       "\n",
       "    .dataframe thead th {\n",
       "        text-align: right;\n",
       "    }\n",
       "</style>\n",
       "<table border=\"1\" class=\"dataframe\">\n",
       "  <thead>\n",
       "    <tr style=\"text-align: right;\">\n",
       "      <th></th>\n",
       "      <th>comment_text</th>\n",
       "      <th>toxic</th>\n",
       "    </tr>\n",
       "  </thead>\n",
       "  <tbody>\n",
       "    <tr>\n",
       "      <th>0</th>\n",
       "      <td>Wasn't me, asshole.  Check your fucking IP's b...</td>\n",
       "      <td>1</td>\n",
       "    </tr>\n",
       "    <tr>\n",
       "      <th>1</th>\n",
       "      <td>Stupid law.  Why does Quebec always have to ca...</td>\n",
       "      <td>1</td>\n",
       "    </tr>\n",
       "    <tr>\n",
       "      <th>2</th>\n",
       "      <td>after qualifying for the Wimbledon main draw -...</td>\n",
       "      <td>1</td>\n",
       "    </tr>\n",
       "    <tr>\n",
       "      <th>3</th>\n",
       "      <td>THE QUESTION IS NOT WHETHER IT'S ART OR PORNOG...</td>\n",
       "      <td>1</td>\n",
       "    </tr>\n",
       "    <tr>\n",
       "      <th>4</th>\n",
       "      <td>fuck you white trash!!!</td>\n",
       "      <td>1</td>\n",
       "    </tr>\n",
       "  </tbody>\n",
       "</table>\n",
       "</div>"
      ],
      "text/plain": [
       "                                        comment_text  toxic\n",
       "0  Wasn't me, asshole.  Check your fucking IP's b...      1\n",
       "1  Stupid law.  Why does Quebec always have to ca...      1\n",
       "2  after qualifying for the Wimbledon main draw -...      1\n",
       "3  THE QUESTION IS NOT WHETHER IT'S ART OR PORNOG...      1\n",
       "4                            fuck you white trash!!!      1"
      ]
     },
     "execution_count": 3,
     "metadata": {},
     "output_type": "execute_result"
    }
   ],
   "source": [
    "df.head()"
   ]
  },
  {
   "cell_type": "code",
   "execution_count": 4,
   "id": "edd3b587",
   "metadata": {
    "colab": {
     "base_uri": "https://localhost:8080/"
    },
    "id": "edd3b587",
    "outputId": "2c776d9f-b626-48cb-daad-73f59254f745"
   },
   "outputs": [
    {
     "data": {
      "text/plain": [
       "(120000, 2)"
      ]
     },
     "execution_count": 4,
     "metadata": {},
     "output_type": "execute_result"
    }
   ],
   "source": [
    "df.shape"
   ]
  },
  {
   "cell_type": "code",
   "execution_count": 5,
   "id": "4db55b0d",
   "metadata": {
    "colab": {
     "base_uri": "https://localhost:8080/"
    },
    "id": "4db55b0d",
    "outputId": "ab27abb5-7c25-455a-ff14-c9e6357dd5e3"
   },
   "outputs": [
    {
     "data": {
      "text/plain": [
       "1    60000\n",
       "0    60000\n",
       "Name: toxic, dtype: int64"
      ]
     },
     "execution_count": 5,
     "metadata": {},
     "output_type": "execute_result"
    }
   ],
   "source": [
    "df[\"toxic\"].value_counts()"
   ]
  },
  {
   "cell_type": "code",
   "execution_count": 6,
   "id": "e8ad39d1",
   "metadata": {
    "colab": {
     "base_uri": "https://localhost:8080/"
    },
    "id": "e8ad39d1",
    "outputId": "bb6d6fa3-01c3-423a-84d5-a95b3a5740e2"
   },
   "outputs": [
    {
     "data": {
      "text/plain": [
       "array([1, 0])"
      ]
     },
     "execution_count": 6,
     "metadata": {},
     "output_type": "execute_result"
    }
   ],
   "source": [
    "df[\"toxic\"].unique()"
   ]
  },
  {
   "cell_type": "code",
   "execution_count": 7,
   "id": "a42a80f7",
   "metadata": {
    "colab": {
     "base_uri": "https://localhost:8080/"
    },
    "id": "a42a80f7",
    "outputId": "175d2bf9-3a0b-4b32-fb38-429173b60e82"
   },
   "outputs": [
    {
     "data": {
      "text/plain": [
       "Index(['comment_text', 'toxic'], dtype='object')"
      ]
     },
     "execution_count": 7,
     "metadata": {},
     "output_type": "execute_result"
    }
   ],
   "source": [
    "df.columns"
   ]
  },
  {
   "cell_type": "code",
   "execution_count": 8,
   "id": "1eb1f563",
   "metadata": {
    "id": "1eb1f563"
   },
   "outputs": [],
   "source": [
    "from sklearn.model_selection import train_test_split\n",
    "from sklearn.feature_extraction.text import CountVectorizer\n",
    "from sklearn.feature_extraction.text import TfidfTransformer\n",
    "X_train, X_test, y_train, y_test = train_test_split(df['comment_text'], df['toxic'], random_state = 100, test_size = 0.1)\n",
    "\n",
    "count_vect = CountVectorizer()\n",
    "X_train_counts = count_vect.fit_transform(X_train)\n",
    "tfidf_transformer = TfidfTransformer()\n",
    "X_train_tfidf = tfidf_transformer.fit_transform(X_train_counts)"
   ]
  },
  {
   "cell_type": "code",
   "execution_count": 9,
   "id": "1ec58bce",
   "metadata": {
    "colab": {
     "base_uri": "https://localhost:8080/"
    },
    "id": "1ec58bce",
    "outputId": "425b5b11-0801-4566-80d7-660d11b636dd"
   },
   "outputs": [
    {
     "name": "stdout",
     "output_type": "stream",
     "text": [
      "Accuracy score:  0.9138333333333334\n",
      "  \n",
      "              precision    recall  f1-score   support\n",
      "\n",
      "           0       0.92      0.91      0.91      5985\n",
      "           1       0.91      0.92      0.91      6015\n",
      "\n",
      "    accuracy                           0.91     12000\n",
      "   macro avg       0.91      0.91      0.91     12000\n",
      "weighted avg       0.91      0.91      0.91     12000\n",
      "\n"
     ]
    },
    {
     "data": {
      "text/plain": [
       "array([[5438,  547],\n",
       "       [ 487, 5528]])"
      ]
     },
     "execution_count": 9,
     "metadata": {},
     "output_type": "execute_result"
    }
   ],
   "source": [
    "from sklearn.naive_bayes import MultinomialNB\n",
    "model = MultinomialNB()\n",
    "clf = model.fit(X_train_tfidf, y_train)\n",
    "pred = clf.predict(count_vect.transform(X_test))\n",
    "from sklearn.metrics import accuracy_score\n",
    "print(\"Accuracy score: \", accuracy_score(y_test, pred))\n",
    "print(\"  \")\n",
    "\n",
    "from sklearn.metrics import classification_report\n",
    "print(classification_report(y_test, pred))\n",
    "\n",
    "from sklearn.metrics import confusion_matrix\n",
    "confusion_matrix(y_test, pred)"
   ]
  },
  {
   "cell_type": "code",
   "execution_count": 10,
   "id": "0ae8bfaf-b9fe-42f0-8f43-18d78b323449",
   "metadata": {
    "id": "0ae8bfaf-b9fe-42f0-8f43-18d78b323449"
   },
   "outputs": [],
   "source": [
    "# dump pickle\n",
    "pickle.dump(clf, open('mode_clf.pkl', 'wb'))"
   ]
  },
  {
   "cell_type": "code",
   "execution_count": 11,
   "id": "6da0d739-0265-41d5-ab2f-e0234f8eddd1",
   "metadata": {},
   "outputs": [],
   "source": [
    "# load the dump\n",
    "clf_pkl = pickle.load(open('mode_clf.pkl', 'rb'))"
   ]
  },
  {
   "cell_type": "code",
   "execution_count": 12,
   "id": "617e1ba1-25f3-4ddb-a902-2832df382c4a",
   "metadata": {
    "id": "617e1ba1-25f3-4ddb-a902-2832df382c4a"
   },
   "outputs": [],
   "source": [
    "# dump pickle count vectorizer\n",
    "pickle.dump(count_vect, open('count_vect.pkl', 'wb'))"
   ]
  },
  {
   "cell_type": "code",
   "execution_count": 13,
   "id": "49b1006e-4c5f-40d2-902f-8bb9630add53",
   "metadata": {},
   "outputs": [],
   "source": [
    "# Load the vectorizer\n",
    "count_vect_pkl = pickle.load(open('count_vect.pkl', 'rb'))"
   ]
  },
  {
   "cell_type": "code",
   "execution_count": 14,
   "id": "6b65dbad-9eb2-49f5-a614-be485b72ab27",
   "metadata": {
    "id": "6b65dbad-9eb2-49f5-a614-be485b72ab27"
   },
   "outputs": [],
   "source": [
    "result = clf_pkl.predict(count_vect_pkl.transform([\"Wasn't me, asshole.  Check your fucking IP's before you go shooting off your mouth.\"]))"
   ]
  },
  {
   "cell_type": "code",
   "execution_count": 15,
   "id": "No5iTpJTZ0jB",
   "metadata": {
    "colab": {
     "base_uri": "https://localhost:8080/"
    },
    "id": "No5iTpJTZ0jB",
    "outputId": "e1605c7d-0f32-4328-95e5-5056edda3a61"
   },
   "outputs": [
    {
     "data": {
      "text/plain": [
       "array([1])"
      ]
     },
     "execution_count": 15,
     "metadata": {},
     "output_type": "execute_result"
    }
   ],
   "source": [
    "result"
   ]
  },
  {
   "cell_type": "code",
   "execution_count": 16,
   "id": "7111a2b5",
   "metadata": {
    "id": "7111a2b5",
    "outputId": "34c8edc8-4faf-4bc1-d9ad-ff5cf9c4e6de"
   },
   "outputs": [
    {
     "data": {
      "text/plain": [
       "1"
      ]
     },
     "execution_count": 16,
     "metadata": {},
     "output_type": "execute_result"
    }
   ],
   "source": [
    "result[0]"
   ]
  },
  {
   "cell_type": "code",
   "execution_count": 17,
   "id": "71027cd8",
   "metadata": {
    "id": "71027cd8"
   },
   "outputs": [],
   "source": [
    "if result[0] == 1:\n",
    "     final = \"The comment is under review will update once verified.\"\n",
    "        \n",
    "else:\n",
    "      final = \"The comment has been successfully updated\""
   ]
  },
  {
   "cell_type": "code",
   "execution_count": 18,
   "id": "0b45a6a2",
   "metadata": {
    "id": "0b45a6a2",
    "outputId": "9a6b741c-604d-4164-a9ae-98e56411cf4f"
   },
   "outputs": [
    {
     "data": {
      "text/plain": [
       "'The comment is under review will update once verified.'"
      ]
     },
     "execution_count": 18,
     "metadata": {},
     "output_type": "execute_result"
    }
   ],
   "source": [
    "final"
   ]
  }
 ],
 "metadata": {
  "colab": {
   "name": "toxic-comment-classifier.ipynb",
   "provenance": []
  },
  "kernelspec": {
   "display_name": "Python 3 (ipykernel)",
   "language": "python",
   "name": "python3"
  },
  "language_info": {
   "codemirror_mode": {
    "name": "ipython",
    "version": 3
   },
   "file_extension": ".py",
   "mimetype": "text/x-python",
   "name": "python",
   "nbconvert_exporter": "python",
   "pygments_lexer": "ipython3",
   "version": "3.8.12"
  }
 },
 "nbformat": 4,
 "nbformat_minor": 5
}
